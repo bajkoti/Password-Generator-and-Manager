{
 "cells": [
  {
   "cell_type": "code",
   "execution_count": 1,
   "id": "eedc45bf",
   "metadata": {},
   "outputs": [],
   "source": [
    "import secrets\n",
    "import string\n",
    "import tkinter as tk\n",
    "from tkinter import messagebox\n",
    "import os"
   ]
  },
  {
   "cell_type": "code",
   "execution_count": 2,
   "id": "56687603",
   "metadata": {},
   "outputs": [],
   "source": [
    "passwords = []  # List to store generated passwords\n",
    "\n",
    "def generate_password(size=10):\n",
    "    characters = string.ascii_letters + string.digits + string.punctuation\n",
    "    new_password = ''.join(secrets.choice(characters) for _ in range(size))\n",
    "    PASSWORD.set(new_password)\n",
    "    gui.clipboard_clear()\n",
    "    gui.clipboard_append(new_password)\n",
    "    gui.update()\n",
    "    passwords.append(new_password)  # Add generated password to the list\n",
    "    determine_password_strength(new_password)  # Determine the strength of the password\n",
    "\n",
    "def determine_password_strength(password):\n",
    "    length = len(password)\n",
    "    strength = \"\"\n",
    "    if length < 8:\n",
    "        strength = \"Weak\"\n",
    "    elif length < 12:\n",
    "        strength = \"Medium\"\n",
    "    else:\n",
    "        strength = \"Strong\"\n",
    "    lbl_strength.config(text=f\"Length: {length}, Strength: {strength}\")\n",
    "\n",
    "def save_password():\n",
    "    password = PASSWORD.get()\n",
    "    if password:\n",
    "        passwords.append(password)  # Add manually entered password to the list\n",
    "        save_to_file(password)\n",
    "        messagebox.showinfo(\"Password Manager\", \"Password saved successfully!\")\n",
    "    else:\n",
    "        messagebox.showerror(\"Password Manager\", \"No password to save!\")\n",
    "\n",
    "def save_to_file(password):\n",
    "    index = len(passwords)\n",
    "    folder = \"passwords\"\n",
    "    if not os.path.exists(folder):\n",
    "        os.makedirs(folder)\n",
    "    filename = f\"{folder}/{index}.txt\"\n",
    "    with open(filename, \"w\") as file:\n",
    "        file.write(password)\n"
   ]
  },
  {
   "cell_type": "code",
   "execution_count": 3,
   "id": "d85320fd",
   "metadata": {},
   "outputs": [
    {
     "data": {
      "text/plain": [
       "''"
      ]
     },
     "execution_count": 3,
     "metadata": {},
     "output_type": "execute_result"
    }
   ],
   "source": [
    "#=====================================WINDOW===================================\n",
    "\n",
    "gui = tk.Tk()\n",
    "gui.title(\"Password Generator and Manager\")"
   ]
  },
  {
   "cell_type": "code",
   "execution_count": 4,
   "id": "52b71556",
   "metadata": {},
   "outputs": [],
   "source": [
    "\n",
    "#====================================VARIABLES==================================\n",
    "\n",
    "PASSWORD = tk.StringVar()\n",
    "PW_SIZE = tk.IntVar()\n",
    "PW_SIZE.set(8) # sets the default value for PW size/length"
   ]
  },
  {
   "cell_type": "code",
   "execution_count": 5,
   "id": "662e725f",
   "metadata": {},
   "outputs": [],
   "source": [
    "Form = tk.Frame(gui)\n",
    "Form.pack(side=tk.TOP)\n",
    "Bot = tk.Frame(gui)\n",
    "Bot.pack(side=tk.BOTTOM)"
   ]
  },
  {
   "cell_type": "code",
   "execution_count": 6,
   "id": "168e38a8",
   "metadata": {},
   "outputs": [],
   "source": [
    "#====================================LABEL WIDGET===============================\n",
    "\n",
    "lbl_password = tk.Label(Form, font=('sans serif', 18), text=\"Password\", bd=10)\n",
    "lbl_password.grid(row=0, pady=10)\n",
    "lbl_pw_size = tk.Label(Form, font=('sans serif', 18), text=\"Size\", bd=10)\n",
    "lbl_pw_size.grid(row=1, pady=10)\n",
    "lbl_strength = tk.Label(Form, font=('sans serif', 10, 'bold'), foreground=\"black\", text=\"\", bd=10, height=1, width=20)\n",
    "lbl_strength.grid(row=0, column=3, pady=10, padx=10)\n"
   ]
  },
  {
   "cell_type": "code",
   "execution_count": 7,
   "id": "4eeeffc3",
   "metadata": {},
   "outputs": [],
   "source": [
    "#====================================ENTRY WIDGET===============================\n",
    "\n",
    "password = tk.Entry(Form, textvariable=PASSWORD, font=(18), width=24)\n",
    "password.grid(row=0, column=1, columnspan=2)\n",
    "pw_size = tk.Scale(Form, from_=8, to=24, length=230, width=24, sliderlength=14, orient=tk.HORIZONTAL, variable=PW_SIZE, font=(18))\n",
    "pw_size.grid(row=1, column=1, columnspan=2)\n"
   ]
  },
  {
   "cell_type": "code",
   "execution_count": 8,
   "id": "28b1022a",
   "metadata": {},
   "outputs": [],
   "source": [
    "#====================================BUTTON WIDGET==============================\n",
    "\n",
    "btn_generate = tk.Button(Form, text=\"Generate Now\", width=20, command=lambda: generate_password(PW_SIZE.get()))\n",
    "btn_generate.grid(row=2, column=1, columnspan=2)\n",
    "\n",
    "btn_save = tk.Button(Form, text=\"Save Password\", width=20, command=save_password)\n",
    "btn_save.grid(row=3, column=1, columnspan=2)"
   ]
  },
  {
   "cell_type": "code",
   "execution_count": null,
   "id": "e174edf5",
   "metadata": {},
   "outputs": [],
   "source": [
    "\n",
    "#=======================================INITIATOR=================================\n",
    "\n",
    "gui.mainloop()"
   ]
  },
  {
   "cell_type": "code",
   "execution_count": null,
   "id": "cfd4ed14",
   "metadata": {},
   "outputs": [],
   "source": []
  }
 ],
 "metadata": {
  "kernelspec": {
   "display_name": "Python 3 (ipykernel)",
   "language": "python",
   "name": "python3"
  },
  "language_info": {
   "codemirror_mode": {
    "name": "ipython",
    "version": 3
   },
   "file_extension": ".py",
   "mimetype": "text/x-python",
   "name": "python",
   "nbconvert_exporter": "python",
   "pygments_lexer": "ipython3",
   "version": "3.11.3"
  }
 },
 "nbformat": 4,
 "nbformat_minor": 5
}
