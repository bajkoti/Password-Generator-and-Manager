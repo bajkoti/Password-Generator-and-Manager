{
 "cells": [
  {
   "cell_type": "code",
   "execution_count": 1,
   "id": "74ffac90",
   "metadata": {},
   "outputs": [],
   "source": [
    "import secrets\n",
    "import string\n",
    "import tkinter as tk\n",
    "from tkinter import messagebox"
   ]
  },
  {
   "cell_type": "code",
   "execution_count": 12,
   "id": "9af52f34",
   "metadata": {},
   "outputs": [],
   "source": [
    "#methods\n",
    "passwords = []  # List to store generated passwords\n",
    "\n",
    "def generate_password(size=10):\n",
    "    characters = string.ascii_letters + string.digits + string.punctuation\n",
    "    new_password = ''.join(secrets.choice(characters) for _ in range(size))\n",
    "    PASSWORD.set(new_password)\n",
    "    gui.clipboard_clear()\n",
    "    gui.clipboard_append(new_password)\n",
    "    gui.update()\n",
    "    passwords.append(new_password)  # Add generated password to the list\n",
    "\n",
    "def save_password():\n",
    "    password = PASSWORD.get()\n",
    "    if password:\n",
    "        passwords.append(password)  # Add manually entered password to the list\n",
    "        messagebox.showinfo(\"Password Manager\", \"Password saved successfully!\")\n",
    "    else:\n",
    "        messagebox.showerror(\"Password Manager\", \"No password to save!\")"
   ]
  },
  {
   "cell_type": "code",
   "execution_count": 13,
   "id": "5d859725",
   "metadata": {},
   "outputs": [],
   "source": [
    "#window\n",
    "gui = tk.Tk()\n",
    "gui.title(\"Password Generator and Manager\")\n",
    "#variables\n",
    "PASSWORD = tk.StringVar()\n",
    "PW_SIZE = tk.IntVar()\n",
    "PW_SIZE.set(8) # sets the default value for PW size/length\n"
   ]
  },
  {
   "cell_type": "code",
   "execution_count": 14,
   "id": "60976a0e",
   "metadata": {},
   "outputs": [],
   "source": [
    "#frame\n",
    "Form = tk.Frame(gui)\n",
    "Form.pack(side=tk.TOP)\n",
    "Bot = tk.Frame(gui)\n",
    "Bot.pack(side=tk.BOTTOM)"
   ]
  },
  {
   "cell_type": "code",
   "execution_count": 15,
   "id": "5e02db45",
   "metadata": {},
   "outputs": [],
   "source": [
    "#lable widget\n",
    "lbl_password = tk.Label(Form, font=('sans serif', 18), text=\"Password\", bd=10)\n",
    "lbl_password.grid(row=0, pady=10)\n",
    "lbl_pw_size = tk.Label(Form, font=('sans serif', 18), text=\"Size\", bd=10)\n",
    "lbl_pw_size.grid(row=1, pady=10)"
   ]
  },
  {
   "cell_type": "code",
   "execution_count": 16,
   "id": "ff063f30",
   "metadata": {},
   "outputs": [],
   "source": [
    "#entry widget\n",
    "password = tk.Entry(Form, textvariable=PASSWORD, font=(18), width=24)\n",
    "password.grid(row=0, column=1, columnspan=2)\n",
    "pw_size = tk.Scale(Form, from_=8, to=24, length=230, width=24, sliderlength=14, orient=tk.HORIZONTAL, variable=PW_SIZE, font=(18))\n",
    "pw_size.grid(row=1, column=1, columnspan=2)\n",
    "#button widget\n",
    "btn_generate = tk.Button(Form, text=\"Generate Now\", width=20, command=lambda: generate_password(PW_SIZE.get()))\n",
    "btn_generate.grid(row=2, column=1, columnspan=2)\n",
    "\n",
    "btn_save = tk.Button(Form, text=\"Save Password\", width=20, command=save_password)\n",
    "btn_save.grid(row=3, column=1, columnspan=2)\n"
   ]
  },
  {
   "cell_type": "code",
   "execution_count": 17,
   "id": "c66be6ff",
   "metadata": {},
   "outputs": [],
   "source": [
    "#initiator\n",
    "gui.mainloop()"
   ]
  },
  {
   "cell_type": "code",
   "execution_count": null,
   "id": "851e5475",
   "metadata": {},
   "outputs": [],
   "source": []
  }
 ],
 "metadata": {
  "kernelspec": {
   "display_name": "Python 3 (ipykernel)",
   "language": "python",
   "name": "python3"
  },
  "language_info": {
   "codemirror_mode": {
    "name": "ipython",
    "version": 3
   },
   "file_extension": ".py",
   "mimetype": "text/x-python",
   "name": "python",
   "nbconvert_exporter": "python",
   "pygments_lexer": "ipython3",
   "version": "3.11.3"
  }
 },
 "nbformat": 4,
 "nbformat_minor": 5
}
